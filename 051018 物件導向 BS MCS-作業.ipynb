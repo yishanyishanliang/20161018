{
 "cells": [
  {
   "cell_type": "code",
   "execution_count": 8,
   "metadata": {
    "collapsed": true
   },
   "outputs": [],
   "source": [
    "class Options_pricing:\n",
    "    def __init__(self, S0, K, T, r, Sigma):\n",
    "        self.S0 = S0\n",
    "        self.K = K\n",
    "        self.T = T\n",
    "        self.r = r\n",
    "        self.Sigma = Sigma\n",
    "    def d1(self):\n",
    "        from math import log, sqrt, exp\n",
    "        d1 = (log(self.S0 / self.K) + (self.r + 0.5 * self.Sigma ** 2) * self.T) / (self.Sigma * sqrt(self.T))\n",
    "        return d1\n",
    "    def d2(self):\n",
    "        from math import log, sqrt, exp\n",
    "        from scipy import stats\n",
    "        d1 = (log(self.S0 / self.K) + (self.r + 0.5 * self.Sigma ** 2) * self.T) / (self.Sigma * sqrt(self.T))\n",
    "        d2 = d1 - self.Sigma * sqrt(self.T)\n",
    "        return d2"
   ]
  },
  {
   "cell_type": "code",
   "execution_count": 10,
   "metadata": {
    "collapsed": false
   },
   "outputs": [],
   "source": [
    "    def BSM(self, type = 1):\n",
    "        from math import log, sqrt, exp\n",
    "        from scipy import stats\n",
    "        if type == 1:\n",
    "            C0 = self.S0 * stats.norm.cdf(self.d1(), 0, 1) - exp( - self.r * self.T) * self.K * stats.norm.cdf(self.d2(), 0, 1)\n",
    "            self.display()\n",
    "            print('買權價格: %5.3f' % C0)\n",
    "        else:\n",
    "            P0 = self.K * stats.norm.cdf( - self.d2(), 0, 1) * exp( - self.r * self.T) - self.S0 * stats.norm.cdf( - self.d1(), 0, 1)\n",
    "            self.display()\n",
    "            print('賣權價格: %5.3f' % P0)"
   ]
  },
  {
   "cell_type": "code",
   "execution_count": 12,
   "metadata": {
    "collapsed": false
   },
   "outputs": [],
   "source": [
    "    def MSC(self, N = 100000, type = 1):\n",
    "        import numpy as np\n",
    "        z = random.standard_normal(N)\n",
    "        ST = self.S0 * exp((self.r - 0.5 * self.Sigma ** 2) * self.T + self.Sigma * np.sqrt(self.T) * z)\n",
    "        if type == 1:\n",
    "            CT = np.maximum(ST - self.K, 0)\n",
    "            C0 = np.sum(np.exp(-self.r * self.T) * (CT))/ N\n",
    "            self.display()\n",
    "            print('買權價格: %5.3f' % C0)\n",
    "        else:\n",
    "            PT = np.maximum(self.K - ST, 0)\n",
    "            P0 = np.sum(np.exp(-self.r * self.T) * PT)/ N\n",
    "            self.display()\n",
    "            print('賣權價格: %5.3f' % P0)\n",
    "    def display(self):\n",
    "        print('標的價格:' + str(self.S0) + '\\n執行價格:' + str(self.K) + '\\n波動率:' + str(self.Sigma) + '\\利率:' + str(self.r) + '\\n期間:' + str(self.T) + '年到期' )"
   ]
  },
  {
   "cell_type": "code",
   "execution_count": null,
   "metadata": {
    "collapsed": true
   },
   "outputs": [],
   "source": []
  }
 ],
 "metadata": {
  "anaconda-cloud": {},
  "kernelspec": {
   "display_name": "Python [Root]",
   "language": "python",
   "name": "Python [Root]"
  },
  "language_info": {
   "codemirror_mode": {
    "name": "ipython",
    "version": 3
   },
   "file_extension": ".py",
   "mimetype": "text/x-python",
   "name": "python",
   "nbconvert_exporter": "python",
   "pygments_lexer": "ipython3",
   "version": "3.5.2"
  }
 },
 "nbformat": 4,
 "nbformat_minor": 0
}
